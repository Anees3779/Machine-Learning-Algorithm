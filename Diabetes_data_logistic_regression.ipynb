{
 "cells": [
  {
   "cell_type": "markdown",
   "id": "dae56757",
   "metadata": {},
   "source": [
    "## Importing Libraries"
   ]
  },
  {
   "cell_type": "code",
   "execution_count": null,
   "id": "85987933",
   "metadata": {},
   "outputs": [],
   "source": [
    "import pandas as pd\n",
    "import numpy as np\n",
    "import seaborn as sns\n",
    "import matplotlib.pyplot as plt"
   ]
  },
  {
   "cell_type": "markdown",
   "id": "755cee40",
   "metadata": {},
   "source": [
    "## Loading CSV_File"
   ]
  },
  {
   "cell_type": "code",
   "execution_count": null,
   "id": "882a11ba",
   "metadata": {},
   "outputs": [],
   "source": [
    "df = pd.read_csv('diabetes.csv')"
   ]
  },
  {
   "cell_type": "markdown",
   "id": "8e9f5a10",
   "metadata": {},
   "source": [
    "## EDA and Data Cleaning"
   ]
  },
  {
   "cell_type": "code",
   "execution_count": null,
   "id": "e3c9cb7d",
   "metadata": {},
   "outputs": [],
   "source": [
    "# Data Preview\n",
    "df.head()"
   ]
  },
  {
   "cell_type": "code",
   "execution_count": null,
   "id": "2f961e39",
   "metadata": {},
   "outputs": [],
   "source": [
    "# getting the shape\n",
    "df.shape"
   ]
  },
  {
   "cell_type": "code",
   "execution_count": null,
   "id": "f569ad6f",
   "metadata": {},
   "outputs": [],
   "source": [
    "# for getting column name\n",
    "df.columns"
   ]
  },
  {
   "cell_type": "code",
   "execution_count": null,
   "id": "f8247833",
   "metadata": {},
   "outputs": [],
   "source": [
    "# geting the info of dataset columnwise\n",
    "df.info()"
   ]
  },
  {
   "cell_type": "code",
   "execution_count": null,
   "id": "3f7e8e16",
   "metadata": {},
   "outputs": [],
   "source": [
    "# for checking null values\n",
    "df.isnull().sum()"
   ]
  },
  {
   "cell_type": "code",
   "execution_count": null,
   "id": "9d249c85",
   "metadata": {},
   "outputs": [],
   "source": [
    "# for gettting every statistical data\n",
    "df.describe()"
   ]
  },
  {
   "cell_type": "code",
   "execution_count": null,
   "id": "9ce00222",
   "metadata": {},
   "outputs": [],
   "source": [
    "# Tranpose of Matrix\n",
    "df.describe().T"
   ]
  },
  {
   "cell_type": "code",
   "execution_count": null,
   "id": "3dc74061",
   "metadata": {},
   "outputs": [],
   "source": [
    "# Heatmap\n",
    "cor = df.corr()\n",
    "sns.heatmap(cor, cmap=\"crest\", annot=True)\n",
    "plt.show()"
   ]
  },
  {
   "cell_type": "code",
   "execution_count": null,
   "id": "7671f9e3",
   "metadata": {},
   "outputs": [],
   "source": [
    "means = df.iloc[:, 1:6].mean()\n",
    "means"
   ]
  },
  {
   "cell_type": "code",
   "execution_count": null,
   "id": "131eea74",
   "metadata": {},
   "outputs": [],
   "source": [
    "nonzeros = list(df.columns[1:6])\n",
    "for column in nonzeros:\n",
    "    df[column] = df[column].replace(0, means[column])"
   ]
  },
  {
   "cell_type": "code",
   "execution_count": null,
   "id": "b25dfec5",
   "metadata": {},
   "outputs": [],
   "source": [
    "df_improve =df[['Glucose','BMI','Age','Insulin','Outcome']]"
   ]
  },
  {
   "cell_type": "code",
   "execution_count": null,
   "id": "18d266e6",
   "metadata": {},
   "outputs": [],
   "source": [
    "# improved dataset after datacleaning\n",
    "df_improve.head()"
   ]
  },
  {
   "cell_type": "code",
   "execution_count": null,
   "id": "b33995fc",
   "metadata": {},
   "outputs": [],
   "source": [
    "# Getting correlation of improved dataset\n",
    "df_improve.corr()\n"
   ]
  },
  {
   "cell_type": "code",
   "execution_count": null,
   "id": "a303305c",
   "metadata": {},
   "outputs": [],
   "source": [
    "# Count the number of occurrences of each unique value in the 'Outcome' column\n",
    "outcome_counts = df['Outcome'].value_counts()\n",
    "print(outcome_counts)"
   ]
  },
  {
   "cell_type": "markdown",
   "id": "0f8139ce",
   "metadata": {},
   "source": [
    "## Data Visualisation"
   ]
  },
  {
   "cell_type": "code",
   "execution_count": null,
   "id": "60b4153e",
   "metadata": {},
   "outputs": [],
   "source": [
    "sns.set_context('notebook', font_scale= 1.2)\n",
    "fig, ax = plt.subplots(2, 3, figsize = (20, 10))\n",
    "\n",
    "plt.suptitle('Distribution of various Numerical Features based on target variable', fontsize = 20)\n",
    "\n",
    "ax1 = sns.histplot(x ='Age', data= df, hue= 'Outcome', kde= True, ax= ax[0, 0], palette='magma')\n",
    "ax1.set(xlabel = 'Age')\n",
    "\n",
    "ax2 = sns.histplot(x ='BloodPressure', data= df, hue= 'Outcome', kde= True, ax= ax[0, 1], palette='viridis')\n",
    "ax2.set(xlabel = 'Blood Pressure')\n",
    "\n",
    "ax3 = sns.histplot(x ='Glucose', data= df, hue= 'Outcome', kde= True, ax= ax[0, 2], palette='magma')\n",
    "ax3.set(xlabel = 'Glucose level')\n",
    "\n",
    "ax4 = sns.histplot(x ='Insulin', data= df, hue= 'Outcome', kde= True, ax= ax[1, 0], palette='viridis')\n",
    "ax4.set(xlabel = 'Insulin')\n",
    "\n",
    "ax5 = sns.histplot(x ='BMI', data= df, hue= 'Outcome', kde= True, ax= ax[1, 1], palette='magma')\n",
    "ax5.set(xlabel = 'Body Mass Index')\n",
    "\n",
    "ax6 = sns.histplot(x ='DiabetesPedigreeFunction', data= df, hue= 'Outcome', kde= True, ax= ax[1, 2], palette='viridis')\n",
    "ax6.set(xlabel = 'Diabetes Likelihood Based on Family History')\n",
    "\n",
    "plt.show()"
   ]
  },
  {
   "cell_type": "code",
   "execution_count": null,
   "id": "015f8f2d",
   "metadata": {},
   "outputs": [],
   "source": [
    "# Pairplot\n",
    "sns.pairplot(df,hue='Outcome')"
   ]
  },
  {
   "cell_type": "code",
   "execution_count": null,
   "id": "796dccd7",
   "metadata": {},
   "outputs": [],
   "source": [
    "# Count the number of occurrences of each unique value in the 'Outcome' column\n",
    "outcome_counts = df['Outcome'].value_counts()"
   ]
  },
  {
   "cell_type": "code",
   "execution_count": null,
   "id": "17bcd40f",
   "metadata": {},
   "outputs": [],
   "source": [
    "# Create a pie chart\n",
    "plt.figure(figsize=(6, 6))\n",
    "plt.pie(outcome_counts, labels=['Fit', 'Diabetic'], autopct='%1.1f%%', startangle=140)\n",
    "plt.title('Outcome Count by Fit and Diabetic')\n",
    "plt.show()\n",
    "\n"
   ]
  },
  {
   "cell_type": "code",
   "execution_count": null,
   "id": "94d6f286",
   "metadata": {},
   "outputs": [],
   "source": [
    "# Plot the count of each class in the 'Outcome' column\n",
    "sns.countplot(x=df['Outcome'], data=df)\n",
    "plt.show()"
   ]
  },
  {
   "cell_type": "markdown",
   "id": "a6b0a898",
   "metadata": {},
   "source": [
    "## Model Building"
   ]
  },
  {
   "cell_type": "code",
   "execution_count": null,
   "id": "1e61f8d2",
   "metadata": {},
   "outputs": [],
   "source": [
    "X = df_improve.loc[:, ['Glucose', 'Insulin','BMI','Age']].to_numpy()\n",
    "y = df_improve.loc[:, 'Outcome'].to_numpy()"
   ]
  },
  {
   "cell_type": "code",
   "execution_count": null,
   "id": "6344b43e",
   "metadata": {},
   "outputs": [],
   "source": [
    "from sklearn.model_selection import train_test_split"
   ]
  },
  {
   "cell_type": "code",
   "execution_count": null,
   "id": "bf0d72c1",
   "metadata": {},
   "outputs": [],
   "source": [
    "X_train, X_test, y_train, y_test = train_test_split(X, y, test_size = 0.33, random_state = 42, stratify = y)"
   ]
  },
  {
   "cell_type": "code",
   "execution_count": null,
   "id": "764a6553",
   "metadata": {},
   "outputs": [],
   "source": [
    "print(X_train.shape)\n",
    "print(X_test.shape)\n",
    "print(y_train.shape)\n",
    "print(y_test.shape)"
   ]
  },
  {
   "cell_type": "markdown",
   "id": "74f3fab2",
   "metadata": {},
   "source": [
    "## Scaling"
   ]
  },
  {
   "cell_type": "code",
   "execution_count": null,
   "id": "35ddb5eb",
   "metadata": {},
   "outputs": [],
   "source": [
    "#Standardising the Dataset\n",
    "mean = X_train.mean()\n",
    "std = X_test.std()\n",
    "\n",
    "X_train = (X_train - mean) / std\n",
    "X_train = np.c_[np.ones(X_train.shape[0]), X_train]\n",
    "X_test = (X_test - mean) / std\n",
    "X_test = np.c_[np.ones(X_test.shape[0]), X_test]"
   ]
  },
  {
   "cell_type": "markdown",
   "id": "1ba70a0b",
   "metadata": {},
   "source": [
    "## Logistic Regression"
   ]
  },
  {
   "cell_type": "code",
   "execution_count": null,
   "id": "3a6fa4b9",
   "metadata": {},
   "outputs": [],
   "source": [
    "class LogisticRegression:\n",
    "\n",
    "    def __init__(self, learning_rate = 0.01, no_of_iterations = 1000):\n",
    "        self.learning_rate = learning_rate\n",
    "        self.no_of_iterations = no_of_iterations\n",
    "        self.costs = []\n",
    "    \n",
    "    # Activation function\n",
    "    def sigmoid(self, z):\n",
    "        return 1 / (1 + np.exp(-z))\n",
    "\n",
    "    \n",
    "    def fit(self, X, y):  \n",
    "        self.X = X\n",
    "        self.Y= y\n",
    "        self.m = X.shape[0]         # Number of rows in the data\n",
    "        self.n = X.shape[1]         # Number of columns in the data\n",
    "        self.w = np.zeros(self.n)   # Initializing weights\n",
    "        self.b = 0                  # Initializing bias\n",
    "        \n",
    "        for i in range(0, self.no_of_iterations):\n",
    "            # Prediction\n",
    "            y_hat = self.sigmoid(self.X.dot(self.w) + self.b)\n",
    "            \n",
    "            # Calculating cost function\n",
    "            cost = (-self.Y * np.log(y_hat) - (1 - self.Y) * np.log(1 - y_hat)).mean()\n",
    "            self.costs.append(cost)\n",
    "            \n",
    "            # Calculating gradients for backward propagation\n",
    "            dw = (1 / self.m) * np.dot(self.X.T, (y_hat - self.Y))\n",
    "            db = (1 / self.m) * np.sum(y_hat - self.Y)\n",
    "            \n",
    "            # Updating parameters\n",
    "            self.w = self.w - self.learning_rate * dw\n",
    "            self.b = self.b - self.learning_rate * db\n",
    "\n",
    "    def predict(self, X):\n",
    "        y_pred = self.sigmoid(X.dot(self.w) + self.b) \n",
    "        y_pred = np.where(y_pred > 0.4, 1, 0)   # y_pred = 1 if prob > 0.4 else 0\n",
    "        return y_pred"
   ]
  },
  {
   "cell_type": "code",
   "execution_count": null,
   "id": "d562916d",
   "metadata": {},
   "outputs": [],
   "source": [
    "log_reg = LogisticRegression(learning_rate= 0.1, no_of_iterations= 200)\n",
    "log_reg.fit(X_train, y_train)\n"
   ]
  },
  {
   "cell_type": "code",
   "execution_count": null,
   "id": "9cfed3a6",
   "metadata": {},
   "outputs": [],
   "source": [
    "train_pred = log_reg.predict(X_train)\n",
    "test_pred = log_reg.predict(X_test)"
   ]
  },
  {
   "cell_type": "code",
   "execution_count": null,
   "id": "6a60aef4",
   "metadata": {},
   "outputs": [],
   "source": [
    "train_pred"
   ]
  },
  {
   "cell_type": "code",
   "execution_count": null,
   "id": "68b9097a",
   "metadata": {},
   "outputs": [],
   "source": [
    "test_pred"
   ]
  },
  {
   "cell_type": "markdown",
   "id": "8ce42586",
   "metadata": {},
   "source": [
    "## Model Evaluation"
   ]
  },
  {
   "cell_type": "code",
   "execution_count": null,
   "id": "1e023661",
   "metadata": {},
   "outputs": [],
   "source": [
    "from sklearn.metrics import accuracy_score, precision_score, recall_score, f1_score"
   ]
  },
  {
   "cell_type": "code",
   "execution_count": null,
   "id": "53135781",
   "metadata": {},
   "outputs": [],
   "source": [
    "def evaluate_model_performance(y_train, train_pred, y_test, test_pred):\n",
    "    train_accuracy = accuracy_score(y_train, train_pred)\n",
    "    test_accuracy = accuracy_score(y_test, test_pred)\n",
    "    train_precision = precision_score(y_train, train_pred)\n",
    "    test_precision = precision_score(y_test, test_pred)\n",
    "    train_recall = recall_score(y_train, train_pred)\n",
    "    test_recall = recall_score(y_test, test_pred)\n",
    "    train_f1 = f1_score(y_train, train_pred)\n",
    "    test_f1 = f1_score(y_test, test_pred)\n",
    "\n",
    "    print(\"Train Accuracy:\", train_accuracy)\n",
    "    print(\"Test Accuracy:\", test_accuracy)\n",
    "    print(\"Train Precision:\", train_precision)\n",
    "    print(\"Test Precision:\", test_precision)\n",
    "    print(\"Train Recall:\", train_recall)\n",
    "    print(\"Test Recall:\", test_recall)\n",
    "    print(\"Train F1 Score:\", train_f1)\n",
    "    print(\"Test F1 Score:\", test_f1)\n"
   ]
  },
  {
   "cell_type": "code",
   "execution_count": null,
   "id": "6dae501a",
   "metadata": {},
   "outputs": [],
   "source": [
    "evaluate_model_performance(y_train, train_pred, y_test, test_pred)"
   ]
  },
  {
   "cell_type": "code",
   "execution_count": null,
   "id": "94dc8578",
   "metadata": {},
   "outputs": [],
   "source": [
    "from sklearn import metrics"
   ]
  },
  {
   "cell_type": "code",
   "execution_count": null,
   "id": "0b40a53b",
   "metadata": {},
   "outputs": [],
   "source": [
    "cfn_matrix = metrics.confusion_matrix(y_test, test_pred)\n",
    "print(cfn_matrix)"
   ]
  },
  {
   "cell_type": "code",
   "execution_count": null,
   "id": "9919ca5a",
   "metadata": {},
   "outputs": [],
   "source": [
    "cfn_matrix = metrics.confusion_matrix(y_test, test_pred)\n",
    "\n",
    "# You have a typo in the following line. Instead of \"pd.df(cfn_matrix)\", you should use \"pd.DataFrame(cfn_matrix)\".\n",
    "sns.heatmap(pd.DataFrame(cfn_matrix), annot=True, cmap=\"YlGnBu\", fmt='g')\n",
    "plt.title('Confusion Matrix', y=1.1)\n",
    "plt.ylabel('Actual Label')\n",
    "plt.xlabel('Predicted Label')\n",
    "plt.show()"
   ]
  },
  {
   "cell_type": "code",
   "execution_count": null,
   "id": "131f347b",
   "metadata": {},
   "outputs": [],
   "source": [
    "# Classification Report\n",
    "from sklearn.metrics import classification_report\n",
    "\n",
    "print(classification_report(y_test,test_pred))"
   ]
  },
  {
   "cell_type": "code",
   "execution_count": null,
   "id": "e30afebe",
   "metadata": {},
   "outputs": [],
   "source": []
  },
  {
   "cell_type": "code",
   "execution_count": null,
   "id": "d6344359",
   "metadata": {},
   "outputs": [],
   "source": []
  }
 ],
 "metadata": {
  "kernelspec": {
   "display_name": "Python 3 (ipykernel)",
   "language": "python",
   "name": "python3"
  },
  "language_info": {
   "codemirror_mode": {
    "name": "ipython",
    "version": 3
   },
   "file_extension": ".py",
   "mimetype": "text/x-python",
   "name": "python",
   "nbconvert_exporter": "python",
   "pygments_lexer": "ipython3",
   "version": "3.11.4"
  }
 },
 "nbformat": 4,
 "nbformat_minor": 5
}
